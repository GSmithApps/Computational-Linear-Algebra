{
 "cells": [
  {
   "cell_type": "markdown",
   "metadata": {},
   "source": [
    "# Midterm I - Least Squares and Regularization\n",
    "\n",
    "In this problem, we will investigate how to recover a noisy, blurred bar-code using least-squares approach.\n",
    "In the UPC barcode system (see http://en.wikipedia.org/wiki/Universal_Product_Code), 12 digits are encoded using a series of 59 alternating black and white bars of varying width.  \n",
    "Each bar may be black (b) or white (w), and has one of four widths: either 1,2,3, or 4 units wide. Each of the 12 digits is encoded with four bars (two white, two black); the width of the bars differ, but the sum of the widths of all four bars is always 7, such that all UPC codes are 95 units wide. Here's the encoding:\n",
    "\n",
    "| Colors        | Number of bars             | Description   |\n",
    "| ------------- | -------------------------- | ------------- |\n",
    "| bwb           | three bars of width 1      | start code    |\n",
    "| wbwb          | four bars of total width 7 | first digit   |\n",
    "| wbwb          | four bars of total width 7 | second digit  |\n",
    "| wbwb          | four bars of total width 7 | third digit   |\n",
    "| wbwb          | four bars of total width 7 | fourth digit  |\n",
    "| wbwb          | four bars of total width 7 | fifth digit   |\n",
    "| wbwb          | four bars of total width 7 | sixth digit   |\n",
    "| wbwbw         | five bars of width 1       | middle code   |\n",
    "| bwbw          | four bars of total width 7 | seventh digit |\n",
    "| bwbw          | four bars of total width 7 | eigth digit   |\n",
    "| bwbw          | four bars of total width 7 | ninth digit   |\n",
    "| bwbw          | four bars of total width 7 | tenth digit   |\n",
    "| bwbw          | four bars of total width 7 | eleventh digit|\n",
    "| bwbw          | four bars of total width 7 | twelfth digit |\n",
    "| bwb           | three bars of width 1      | end code      |\n",
    "\n",
    "Each digit (0-9) corresponds to two particular patterns of bar widths for reasons beyond our interest:\n",
    "\n",
    "| Digit         |     0      |     1      |     2      |     3      |     4      |     5      |     6      |     7      |     8      |     9      |\n",
    "| ------------- | ---------- | ---------- | ---------- | ---------- | ---------- | ---------- | ---------- | ---------- | ---------- | ---------- |\n",
    "| Pattern 1     |  3-2-1-1   |  2-2-2-1   |  2-1-2-2   |  1-4-1-1   |  1-1-3-2   |  1-2-3-1   |  1-1-1-4   |   1-3-1-2  |   1-2-1-3  |  3-1-1-2   |\n",
    "| Pattern 2     |  1-1-2-3   |  1-2-2-2   |  2-2-1-2   |  1-1-4-1   |  2-3-1-1   |  1-3-2-1   |  4-1-1-1   |   2-1-3-1  |   3-1-2-1  |  2-1-1-3   |\n",
    "\n",
    "For example, if the four bars (left to right) have the pattern 3-2-1-1 or 1-1-2-3, the corresponding UPC digit is 0.\n",
    "\n",
    " As an example, you can have a look at the barcode in the main PDF of this midterm problem, and try and decode it. To start you out, here's the code for the first three digits - you can appreciate the difficulty of the task!\n",
    "\n",
    "| color   | b w b      | w b w b | w b w b | w b w b |\n",
    "| ------- | ---------- | ------- | ------- | ------- |\n",
    "| width   | 1 1 1      | 3 2 1 1 | 1 1 3 2 | 3 1 1 2 |\n",
    "| meaning | start code |    0    |    4    |    9    |\n",
    "\n",
    "Using his scanner, a cashier takes an image of a barcode, which is represented mathematically as a function f(t) that takes values zero and one: zero corresponds to white bars and one corresponds to black bars. This exact function is shown below:\n",
    "\n"
   ]
  },
  {
   "cell_type": "code",
   "execution_count": null,
   "metadata": {},
   "outputs": [],
   "source": [
    "using Plots, LinearAlgebra\n",
    "function coke_upc(N)\n",
    "    σ = 0.01\n",
    "    code = [1,0,1,0,0,0,1,1,0,1,0,1,0,0,0,1,1,0,0,0,1,0,1,1,0,0,0,1,1,0,1,0,0,0,1,1,0,1,0,0,0,1,1,0,1,0,1,0,1,0,1,1,1,0,0,1,0,1,1,0,1,1,0,0,1,0,0,0,1,0,0,1,0,1,0,0,0,0,1,0,0,0,1,0,0,1,1,1,0,1,0,0,1,0,1]\n",
    "    fexact(t) = (0 < t < 1 ? 1.0*code[floor(Int, 95*t+1)] : 0.0 )\n",
    "\n",
    "    t = collect( ((1:N).-0.5)./N )\n",
    "    ftrue = fexact.(t)\n",
    "\n",
    "    A = 1/N*exp.( -((t .- t')./σ).^2 )\n",
    "    b = A*ftrue\n",
    "    e = randn(N)\n",
    "    bnoise = b + .05*norm(b)/norm(e) * e\n",
    "\n",
    "    return A, b, bnoise, ftrue, t\n",
    "end\n",
    "\n",
    "N = 500\n",
    "A, b, bnoise, ftrue, t = coke_upc(N)\n",
    "\n",
    "plot(t, ftrue, xlims=(0,1), size=(800,100), title=\"Exact barcode, 'ftrue'\", legend=false)"
   ]
  },
  {
   "cell_type": "markdown",
   "metadata": {},
   "source": [
    "The optical scanner can only acquire a blurred version of this exact code, sampled at discrete points in a vector, depending on its optical components.  \n",
    "From this blurred function, it seems difficult to determine the widths of the bars, and hence to interpret the barcode.\n",
    "\n",
    "We will here assume that we know perfectly these optics, meaning that we can simulate the process perfectly by a known blurring matrix $A$. "
   ]
  },
  {
   "cell_type": "code",
   "execution_count": null,
   "metadata": {},
   "outputs": [],
   "source": [
    "plot(t, b, size=(800,100), title=\"Blurry barcode, 'b'\", linewidth=2, legend=false)"
   ]
  },
  {
   "cell_type": "markdown",
   "metadata": {},
   "source": [
    "We shall try to improve the situation by solving the inverse problem ${\\bf Af} = {\\bf b}$ for the vector $\\bf f$ that samples the function $f(t)$ at the points $t_k = (k-1/2)/N$ with $N = 500$.  \n",
    "In addition, we will take into account the fact that results are polluted by noise, which we take here to be 5%, leading to the observations:"
   ]
  },
  {
   "cell_type": "code",
   "execution_count": null,
   "metadata": {},
   "outputs": [],
   "source": [
    "plot(t, bnoise, size=(800,100), title=\"Noisy and blurry barcode, 'bnoise'\", linewidth=2, legend=false)"
   ]
  },
  {
   "cell_type": "markdown",
   "metadata": {},
   "source": [
    "### 1. Produce a plot showing the vector $f_{rec}$ obtained by directly solving ${\\bf Af} = {\\bf b}$.  \n",
    "Adapt the code above to produce a similar elongated plot. Plot your recovered barcode ${\\bf f}_\\text{rec}$. Does this resemble ${\\bf f}_\\text{true}$? Provide an explanation for this phenomenon."
   ]
  },
  {
   "cell_type": "code",
   "execution_count": null,
   "metadata": {},
   "outputs": [],
   "source": [
    "f = ??\n"
   ]
  },
  {
   "cell_type": "markdown",
   "metadata": {},
   "source": [
    "### 2. Repeat part (1), but now using the noisy, blurred vector: solve ${\\bf A f_\\text{noise}} = {\\bf b_\\text{noise}}$ for $f_\\text{noise}$. \n",
    "Plot your recovered barcode ${\\bf f}_\\text{noise}$. Does this resemble ${\\bf f}_\\text{true}$? How does it compare to the previous plot?"
   ]
  },
  {
   "cell_type": "code",
   "execution_count": null,
   "metadata": {},
   "outputs": [],
   "source": [
    "fnoise = ??"
   ]
  },
  {
   "cell_type": "markdown",
   "metadata": {},
   "source": [
    "### 3. Now let us compute an approximation of ${\\bf f}$ using the Singular Value Decomposition.  \n",
    "Recall that given the dyadic form of the singular value decomposition: $A = \\sum_{j=1}^n \\sigma_j {\\bf u}_j {\\bf v}_j^T$, then the rank-$k$ pseudo-inverse of the truncated singular value decomposition writes:\n",
    "$$\n",
    "A_k^\\dagger = \\sum_{j=1}^k \\frac{1}{\\sigma_j} {\\bf v}_j {\\bf u}_j^T \\qquad \\text{and} \\qquad {\\bf f}_k = A_k^\\dagger {\\bf b}_\\text{noise} =  \\sum_{j=1}^k \\frac{({\\bf u}_j^T {\\bf b}_\\text{noise})}{\\sigma_j} {\\bf v}_j.\n",
    "$$\n",
    "Write a function taking as arguments $A$, ${\\bf b}$ and $k$ computing $A_k^\\dagger {\\bf b}$, the solution of the least-squares problem $\\min_{\\bf f} \\Vert A_k {\\bf f} - {\\bf b} \\Vert_2^2$.  \n",
    "Experiment with increasing values of $k$, starting with $k = 50$, $k = 100$, $k = 150$, $k = 200$. Describe how varying $k$ affects the quality of the solution. Do you observe any difference if you use the exact blurred vector ${\\bf b}$ versus the noisy, blurred vector ${\\bf b}_\\text{noise}$? Illustrate your experiments by producing plots like the ones you constructed in parts (1) and (2). Are the recoveries good enough that you can estimate the value of the barcode?"
   ]
  },
  {
   "cell_type": "code",
   "execution_count": null,
   "metadata": {},
   "outputs": [],
   "source": [
    "# Complete the following function f_trunc\n",
    "function f_trunc(A,b,k)\n",
    "    U,S,V = svd(A)  # U,V are the matrices of the SVD, S is a vector of singular values\n",
    "    fk = # ??\n",
    "\n",
    "    return fk\n",
    "end"
   ]
  },
  {
   "cell_type": "code",
   "execution_count": null,
   "metadata": {},
   "outputs": [],
   "source": [
    "plot(t, [f_trunc(A,b,k) for k = [50,100,150,200]], size=(800,400), linewidth=2, legend=false, layout=(4,1))"
   ]
  },
  {
   "cell_type": "code",
   "execution_count": null,
   "metadata": {},
   "outputs": [],
   "source": [
    "plot(t, [f_trunc(A,bnoise,k) for k = [50,100,150,200]], size=(800,400), linewidth=2, legend=false, layout=(4,1))"
   ]
  },
  {
   "cell_type": "markdown",
   "metadata": {},
   "source": [
    "### 4. As an alternative to the truncated SVD, let us explore solutions obtained from the regularized least squares problem\n",
    "$$ \n",
    "    \\min_{f \\in \\mathbb{R}^n} \\Vert A {\\bf f} - {\\bf b} \\Vert_2^2 + \\delta^2 \\Vert {\\bf f} \\Vert^2_2,\n",
    "$$\n",
    "for various $\\delta$. Recall that we can find the optimal value ${\\bf f}_\\delta$ by solving the regularized normal equations\n",
    "$$\n",
    "    (A^T A + \\delta^2 I) {\\bf f}_\\delta = A^T {\\bf b},\n",
    "$$\n",
    "or by the alternative formulas seen in Problem 3.\n",
    "\n",
    "- Write a function allowing to compute the regularized solution ${\\bf f}_\\delta$.\n",
    "\n"
   ]
  },
  {
   "cell_type": "code",
   "execution_count": null,
   "metadata": {},
   "outputs": [],
   "source": [
    "# Complete the following function f_reg\n",
    "function f_reg(A,b,delta)\n",
    "    \n",
    "    ??\n",
    "\n",
    "    return fdelta\n",
    "end"
   ]
  },
  {
   "cell_type": "markdown",
   "metadata": {},
   "source": [
    "- Plot the solution ${\\bf f}_\\delta$ for $\\delta = 5.10^{-6}$, $5.10^{-4}$, $5.10^{-2}$.  \n",
    "What do you observe as $\\delta$ increases? Propose an explanation. Which solution comes closest to ${\\bf f}_{true}$?\n"
   ]
  },
  {
   "cell_type": "code",
   "execution_count": null,
   "metadata": {},
   "outputs": [],
   "source": [
    "# Compute and plot here the solution f1 for delta = 5*10^-6\n",
    "delta = 5e-6\n",
    "f1 = f_reg(A,bnoise,delta)\n",
    "\n",
    "plot(t, [f1 ftrue], size=(800,100), linewidth=2)"
   ]
  },
  {
   "cell_type": "code",
   "execution_count": null,
   "metadata": {},
   "outputs": [],
   "source": [
    "# Compute and plot here the solution f2 for delta = 5*10^-4\n",
    "delta = 5e-4\n",
    "f2 = f_reg(A,bnoise,delta)\n",
    "\n",
    "plot(t, [f2 ftrue], size=(800,100), linewidth=2)"
   ]
  },
  {
   "cell_type": "code",
   "execution_count": null,
   "metadata": {},
   "outputs": [],
   "source": [
    "# Compute and plot here the solution f3 for delta = 5*10^-2\n",
    "delta = 5e-2\n",
    "f3 = f_reg(A,bnoise,delta)\n",
    "\n",
    "plot(t, [f3 ftrue], size=(800,100), linewidth=2)"
   ]
  },
  {
   "cell_type": "markdown",
   "metadata": {},
   "source": [
    "- \\[Bonus\\] Using the noisy observation ${\\bf b}_\\text{noise}$ and 100 logarithmically-spaced values of $\\delta$ in the range $10^{-6}, \\dots, 10^{-1}$, plot the quantity $\\Vert {\\bf b}_\\text{noise} - A {\\bf f_\\delta} \\Vert $ on the horizontal axis and $\\Vert f_\\delta \\Vert$ on the vertical axis.\n",
    "In addition, we locate the result corresponding to the 3 values above on this so-called L-curve. What do you observe? Propose an explanation and a general method for choosing the right regularization parameter delta."
   ]
  },
  {
   "cell_type": "code",
   "execution_count": null,
   "metadata": {},
   "outputs": [],
   "source": [
    "delta = exp10.(range(start=-6, stop=-1, length = 100))\n",
    "x = zeros(100)\n",
    "y = zeros(100)\n",
    "\n",
    "for j=1:100\n",
    "    f = f_reg(A,bnoise,delta[j])\n",
    "    \n",
    "    x[j] = norm(bnoise - A*f)\n",
    "    y[j] = norm(f)\n",
    "end\n",
    "\n",
    "plot(x,y, xscale=:log10, yscale=:log10, label=\"\")\n",
    "plot!([norm(A*f1 - bnoise) norm(A*f2 - bnoise) norm(A*f3 - bnoise)], [norm(f1) norm(f2) norm(f3)], \n",
    "                seriestype=:scatter, label=[\"δ=0.000005\" \"δ=0.0005\" \"δ=0.05\"])"
   ]
  }
 ],
 "metadata": {
  "kernelspec": {
   "display_name": "Julia 1.7.1",
   "language": "julia",
   "name": "julia-1.7"
  },
  "language_info": {
   "file_extension": ".jl",
   "mimetype": "application/julia",
   "name": "julia",
   "version": "1.7.1"
  }
 },
 "nbformat": 4,
 "nbformat_minor": 2
}
