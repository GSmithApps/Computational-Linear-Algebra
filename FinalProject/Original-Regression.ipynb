{
 "cells": [
  {
   "cell_type": "code",
   "execution_count": 22,
   "metadata": {},
   "outputs": [
    {
     "name": "stdout",
     "output_type": "stream",
     "text": [
      "The condition number under the 2-norm is 84365.3\n"
     ]
    },
    {
     "data": {
      "image/png": "[encoded data removed]",
      "text/plain": [
       "<Figure size 432x288 with 1 Axes>"
      ]
     },
     "metadata": {
      "needs_background": "light"
     },
     "output_type": "display_data"
    }
   ],
   "source": [
    "import numpy as np\n",
    "from get_data import get_data\n",
    "\n",
    "df = get_data('linear')\n",
    "\n",
    "x_min = min(df['x'])\n",
    "x_max = max(df['x'])\n",
    "from math import pi\n",
    "df['x_trans'] = ( df['x'] - x_min)/(x_max-x_min)* pi\n",
    "\n",
    "from math import cos\n",
    "from math import sqrt\n",
    "\n",
    "model_switch = 'x'\n",
    "\n",
    "num_rows = len(df.index)\n",
    "\n",
    "\n",
    "num_weights = 7\n",
    "\n",
    "if model_switch == 'cos':\n",
    "    df['cos0'] = df['x_trans'].apply(lambda x: cos(0*x) / sqrt(num_rows))\n",
    "else:\n",
    "    df['cos0'] = df['x_trans'].apply(lambda x: x ** 0 / sqrt(num_rows))\n",
    "\n",
    "for i in range(1,num_weights):\n",
    "    if model_switch == 'cos':\n",
    "        df[f'cos{i}'] = df['x_trans'].apply(lambda x: sqrt(2)*cos(i*x) / sqrt(num_rows))\n",
    "    else:\n",
    "        df[f'cos{i}'] = df['x_trans'].apply(lambda x: sqrt(2)* x ** i / sqrt(num_rows))\n",
    "\n",
    "A = df[[f\"cos{x}\" for x in range(0,num_weights)]].values\n",
    "b = df['y'].values\n",
    "\n",
    "w = np.linalg.solve(np.transpose(A) @ A, np.transpose(A) @ b)\n",
    "\n",
    "def f(row):\n",
    "    return sum([row[f'cos{x}'] * w[x] for x in range(0,num_weights)])\n",
    "\n",
    "df['pred'] = df.apply(f, axis=1)\n",
    "\n",
    "from numpy.linalg import cond\n",
    "\n",
    "print(f\"The condition number under the 2-norm is {round(cond(A),1)}\")\n",
    "\n",
    "import matplotlib.pyplot as plt\n",
    "\n",
    "\n",
    "\n",
    "plt.plot(df['x_trans'],df['pred'], c= \"r\")\n",
    "plt.scatter(df['x_trans'],df['y'])\n",
    "plt.savefig('curve.png')\n",
    "\n",
    "plt.show()\n"
   ]
  },
  {
   "cell_type": "code",
   "execution_count": null,
   "metadata": {},
   "outputs": [],
   "source": []
  }
 ],
 "metadata": {
  "interpreter": {
   "hash": "2afd11b9c5d1f0ca4f4d09d4cb64edb9b72075a194763ddbbbd1860824f5bf60"
  },
  "kernelspec": {
   "display_name": "Python 3.8.3 ('base')",
   "language": "python",
   "name": "python3"
  },
  "language_info": {
   "codemirror_mode": {
    "name": "ipython",
    "version": 3
   },
   "file_extension": ".py",
   "mimetype": "text/x-python",
   "name": "python",
   "nbconvert_exporter": "python",
   "pygments_lexer": "ipython3",
   "version": "3.8.3"
  },
  "orig_nbformat": 4
 },
 "nbformat": 4,
 "nbformat_minor": 2
}
