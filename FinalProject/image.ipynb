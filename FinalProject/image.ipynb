{
 "cells": [
  {
   "cell_type": "code",
   "execution_count": 1,
   "metadata": {},
   "outputs": [],
   "source": [
    "using Images\n",
    "using ImageTransformations\n",
    "pups_c = load(\"pups.JPG\")\n",
    "pups_r = Gray.(pups_c)\n",
    "pups = imrotate(pups_r,π/2)\n",
    "slice = pups[1250,:]\n",
    "using DelimitedFiles\n",
    "writedlm( \"pupSlice.csv\",  Float64.(slice), ',')\n",
    "writedlm( \"pupArray.csv\",  Float64.(pups), ',')"
   ]
  }
 ],
 "metadata": {
  "kernelspec": {
   "display_name": "Julia 1.7.1",
   "language": "julia",
   "name": "julia-1.7"
  },
  "language_info": {
   "file_extension": ".jl",
   "mimetype": "application/julia",
   "name": "julia",
   "version": "1.7.1"
  },
  "orig_nbformat": 4
 },
 "nbformat": 4,
 "nbformat_minor": 2
}
